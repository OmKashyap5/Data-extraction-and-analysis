{
 "cells": [
  {
   "cell_type": "code",
   "execution_count": null,
   "metadata": {},
   "outputs": [],
   "source": [
    "import pandas as pd\n",
    "import re\n",
    "import nltk\n",
    "from nltk.tokenize import word_tokenize\n",
    "from nltk.corpus import cmudict\n",
    "nltk.download('punkt')\n",
    "nltk.download('cmudict')"
   ]
  },
  {
   "cell_type": "code",
   "execution_count": null,
   "metadata": {},
   "outputs": [],
   "source": [
    "df=pd.read_csv(\"path to dataset csv file containing website links\")\n",
    "df"
   ]
  },
  {
   "cell_type": "code",
   "execution_count": null,
   "metadata": {},
   "outputs": [],
   "source": [
    "ls=['POSITIVE SCORE','NEGATIVE SCORE','POLARITY SCORE','SUBJECTIVITY SCORE','AVG SENTENCE LENGTH','PERCENTAGE OF COMPLEX WORDS','FOG INDEX','AVG NUMBER OF WORDS PER SENTENCE','COMPLEX WORD COUNT','WORD COUNT','SYLLABLE PER WORD','PERSONAL PRONOUNS','AVG WORD LENGTH']\n",
    "for l in ls:\n",
    "    df[l] = ''\n",
    "df"
   ]
  },
  {
   "cell_type": "code",
   "execution_count": null,
   "metadata": {},
   "outputs": [],
   "source": [
    "url=df.iloc[0,1]"
   ]
  },
  {
   "cell_type": "code",
   "execution_count": null,
   "metadata": {},
   "outputs": [],
   "source": [
    "import requests\n",
    "from bs4 import BeautifulSoup"
   ]
  },
  {
   "cell_type": "code",
   "execution_count": null,
   "metadata": {},
   "outputs": [],
   "source": [
    "try:\n",
    "    response = requests.get(url)\n",
    "except:\n",
    "    print(\"can't get response of {}\".format(df.iloc[0,0]))\n",
    "try:\n",
    "    soup = BeautifulSoup(response.content, 'html.parser')\n",
    "except:\n",
    "    print(\"can't get page of {}\".format(df.iloc[0,0]))\n",
    "try:\n",
    "    title = soup.find('h1').get_text()\n",
    "except:\n",
    "    print(\"can't get title of {}\".format(df.iloc[0,0]))\n",
    "article = \"\"\n",
    "try:\n",
    "    for p in soup.find_all('p'):\n",
    "        article += p.get_text()\n",
    "except:\n",
    "    print(\"can't get text of {}\".format(df.iloc[0,0]))\n",
    "print(title)\n",
    "print(article)\n",
    "# article=article[919:-394]   \n",
    "print(article)\n",
    "file_path = \"path to file where to save the extracted text\"+str(df.iloc[0,0])+\".txt\"\n",
    "with open(file_path, 'a') as file:\n",
    "    file.write(title)\n",
    "    file.write(article)"
   ]
  },
  {
   "cell_type": "code",
   "execution_count": null,
   "metadata": {},
   "outputs": [],
   "source": [
    "stop_words = set()\n",
    "with open(\"path to stopwords text file\", 'r') as f:\n",
    "    stop_words.update(set(f.read().splitlines()))\n",
    "print(stop_words)\n",
    "print(len(stop_words))"
   ]
  },
  {
   "cell_type": "code",
   "execution_count": null,
   "metadata": {},
   "outputs": [],
   "source": [
    "pronouncing_dict = cmudict.dict()"
   ]
  },
  {
   "cell_type": "code",
   "execution_count": null,
   "metadata": {},
   "outputs": [],
   "source": [
    "words = word_tokenize(article)\n",
    "filtered_article = [word for word in words if word not in stop_words]\n",
    "print(filtered_article)"
   ]
  },
  {
   "cell_type": "code",
   "execution_count": null,
   "metadata": {},
   "outputs": [],
   "source": [
    "positive_words = set()\n",
    "with open(\"path to positive words text file\", 'r') as f:\n",
    "    positive_words.update(set(f.read().splitlines()))\n",
    "negative_words = set()\n",
    "with open(\"path to negative words text file\", 'r') as f:\n",
    "    negative_words.update(set(f.read().splitlines()))"
   ]
  },
  {
   "cell_type": "code",
   "execution_count": null,
   "metadata": {},
   "outputs": [],
   "source": [
    "positive_score=0\n",
    "negative_score=0\n",
    "for word in filtered_article:\n",
    "    if word in positive_words:\n",
    "        positive_score=positive_score+1\n",
    "for word in filtered_article:\n",
    "    if word in negative_words:\n",
    "        negative_score=negative_score+1\n",
    "polarity_score=(positive_score - negative_score) / ((positive_score + negative_score) + 0.000001)\n",
    "subjectivity_score=(positive_score + negative_score) / ((len(filtered_article)) + 0.000001)"
   ]
  },
  {
   "cell_type": "code",
   "execution_count": null,
   "metadata": {},
   "outputs": [],
   "source": [
    "def count_syllables(word):\n",
    "    word = word.lower()\n",
    "    if word in pronouncing_dict:\n",
    "        return max([len(list(y for y in x if y[-1].isdigit())) for x in pronouncing_dict[word]])\n",
    "    else:\n",
    "        return 1"
   ]
  },
  {
   "cell_type": "code",
   "execution_count": null,
   "metadata": {},
   "outputs": [],
   "source": [
    "avg_sen_len=len(words)/len(article.split('.'))"
   ]
  },
  {
   "cell_type": "code",
   "execution_count": null,
   "metadata": {},
   "outputs": [],
   "source": [
    "complex_word_count=0\n",
    "for word in words:\n",
    "    if (count_syllables(word)>2):\n",
    "        complex_word_count=complex_word_count+1\n",
    "prcnt_cmplx_word=complex_word_count/len(words)"
   ]
  },
  {
   "cell_type": "code",
   "execution_count": null,
   "metadata": {},
   "outputs": [],
   "source": [
    "fog_index=0.4*(avg_sen_len + prcnt_cmplx_word)"
   ]
  },
  {
   "cell_type": "code",
   "execution_count": null,
   "metadata": {},
   "outputs": [],
   "source": [
    "AVG_NUMBER_OF_WORDS_PER_SENTENCE=avg_sen_len"
   ]
  },
  {
   "cell_type": "code",
   "execution_count": null,
   "metadata": {},
   "outputs": [],
   "source": [
    "word_count=len(filtered_article)"
   ]
  },
  {
   "cell_type": "code",
   "execution_count": null,
   "metadata": {},
   "outputs": [],
   "source": [
    "syllab_total=0\n",
    "for word in words:\n",
    "    syllab_total=syllab_total+count_syllables(word)\n",
    "syllab_per_word=syllab_total/len(words)"
   ]
  },
  {
   "cell_type": "code",
   "execution_count": null,
   "metadata": {},
   "outputs": [],
   "source": [
    "pattern = r'\\b(I|we|my|ours|us)\\b'\n",
    "matches = re.findall(pattern, article, flags=re.IGNORECASE)\n",
    "personal_pronouns=len(matches)"
   ]
  },
  {
   "cell_type": "code",
   "execution_count": null,
   "metadata": {},
   "outputs": [],
   "source": [
    "total_word_len=0\n",
    "for word in words:\n",
    "    total_word_len=total_word_len+len(word)\n",
    "avg_word_len=total_word_len/len(words)"
   ]
  },
  {
   "cell_type": "code",
   "execution_count": null,
   "metadata": {},
   "outputs": [],
   "source": [
    "df.iloc[0,2]=positive_score\n",
    "df.iloc[0,3]=negative_score\n",
    "df.iloc[0,4]=polarity_score\n",
    "df.iloc[0,5]=subjectivity_score\n",
    "df.iloc[0,6]=avg_sen_len\n",
    "df.iloc[0,7]=prcnt_cmplx_word\n",
    "df.iloc[0,8]=fog_index\n",
    "df.iloc[0,9]=AVG_NUMBER_OF_WORDS_PER_SENTENCE\n",
    "df.iloc[0,10]=complex_word_count\n",
    "df.iloc[0,11]=word_count\n",
    "df.iloc[0,12]=syllab_per_word\n",
    "df.iloc[0,13]=personal_pronouns\n",
    "df.iloc[0,14]=avg_word_len\n",
    "df"
   ]
  }
 ],
 "metadata": {
  "kernelspec": {
   "display_name": "Python 3",
   "language": "python",
   "name": "python3"
  },
  "language_info": {
   "codemirror_mode": {
    "name": "ipython",
    "version": 3
   },
   "file_extension": ".py",
   "mimetype": "text/x-python",
   "name": "python",
   "nbconvert_exporter": "python",
   "pygments_lexer": "ipython3",
   "version": "3.10.3"
  },
  "orig_nbformat": 4
 },
 "nbformat": 4,
 "nbformat_minor": 2
}
